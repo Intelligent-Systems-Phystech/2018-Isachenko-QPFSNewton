{
 "cells": [
  {
   "cell_type": "code",
   "execution_count": 12,
   "metadata": {
    "collapsed": true
   },
   "outputs": [],
   "source": [
    "import numpy as np\n",
    "import scipy as sc\n",
    "import matplotlib.pyplot as plt\n",
    "import sys\n",
    "import os\n",
    "%matplotlib inline"
   ]
  },
  {
   "cell_type": "markdown",
   "metadata": {},
   "source": [
    "### Scikit-feature tutorial"
   ]
  },
  {
   "cell_type": "code",
   "execution_count": 37,
   "metadata": {
    "collapsed": false
   },
   "outputs": [
    {
     "name": "stdout",
     "output_type": "stream",
     "text": [
      "1440 1024\n",
      "(1440,)\n"
     ]
    }
   ],
   "source": [
    "import scipy.io\n",
    "\n",
    "dirname = '.\\..\\data'\n",
    "path = os.path.join(dirname, 'COIL20.mat')\n",
    "mat = scipy.io.loadmat(path)\n",
    "\n",
    "X = mat['X']\n",
    "n_samples, n_features = X.shape\n",
    "print n_samples, n_features\n",
    "\n",
    "y = mat['Y'][:, 0]\n",
    "n_labels = y.shape\n",
    "print n_labels"
   ]
  },
  {
   "cell_type": "code",
   "execution_count": 38,
   "metadata": {
    "collapsed": false
   },
   "outputs": [
    {
     "name": "stdout",
     "output_type": "stream",
     "text": [
      "(1152, 1024) (288, 1024)\n"
     ]
    }
   ],
   "source": [
    "from sklearn.cross_validation import train_test_split\n",
    "\n",
    "X_train, X_test, y_train, y_test = train_test_split(X, y, test_size=0.2, random_state=40)\n",
    "print X_train.shape, X_test.shape"
   ]
  },
  {
   "cell_type": "code",
   "execution_count": 39,
   "metadata": {
    "collapsed": false
   },
   "outputs": [
    {
     "name": "stdout",
     "output_type": "stream",
     "text": [
      "[ 13.96904931   0.5376816    0.19923194   0.07443112   0.12497083]\n",
      "(1024,)\n"
     ]
    }
   ],
   "source": [
    "from skfeature.function.similarity_based import fisher_score\n",
    "\n",
    "score = fisher_score.fisher_score(X_train, y_train)\n",
    "\n",
    "print score[:5]\n",
    "print score.shape"
   ]
  },
  {
   "cell_type": "code",
   "execution_count": 40,
   "metadata": {
    "collapsed": false
   },
   "outputs": [
    {
     "name": "stdout",
     "output_type": "stream",
     "text": [
      "[1023 1022   31    0   30]\n",
      "[ 66  65  34  97 897]\n"
     ]
    }
   ],
   "source": [
    "idx_fisher = fisher_score.feature_ranking(score)\n",
    "print idx_fisher[:5]\n",
    "print idx_fisher[-5:]"
   ]
  },
  {
   "cell_type": "code",
   "execution_count": 41,
   "metadata": {
    "collapsed": false
   },
   "outputs": [
    {
     "data": {
      "text/plain": [
       "array([897,  97,  34,  65,  66])"
      ]
     },
     "execution_count": 41,
     "metadata": {},
     "output_type": "execute_result"
    }
   ],
   "source": [
    "score.argsort()[:5]"
   ]
  },
  {
   "cell_type": "code",
   "execution_count": 57,
   "metadata": {
    "collapsed": true
   },
   "outputs": [],
   "source": [
    "num_fea = 40\n",
    "\n",
    "selected_features_train = X_train[:, idx_fisher[:num_fea]]\n",
    "selected_features_test = X_test[:, idx_fisher[:num_fea]]"
   ]
  },
  {
   "cell_type": "code",
   "execution_count": 58,
   "metadata": {
    "collapsed": false
   },
   "outputs": [
    {
     "data": {
      "text/plain": [
       "LinearSVC(C=1.0, class_weight=None, dual=True, fit_intercept=True,\n",
       "     intercept_scaling=1, loss='squared_hinge', max_iter=1000,\n",
       "     multi_class='ovr', penalty='l2', random_state=None, tol=0.0001,\n",
       "     verbose=0)"
      ]
     },
     "execution_count": 58,
     "metadata": {},
     "output_type": "execute_result"
    }
   ],
   "source": [
    "from sklearn import svm\n",
    "\n",
    "clf = svm.LinearSVC()\n",
    "\n",
    "clf.fit(selected_features_train, y_train)"
   ]
  },
  {
   "cell_type": "code",
   "execution_count": 59,
   "metadata": {
    "collapsed": false
   },
   "outputs": [
    {
     "name": "stdout",
     "output_type": "stream",
     "text": [
      "[ 8 15  1 10 11]\n"
     ]
    }
   ],
   "source": [
    "y_predict = clf.predict(selected_features_test)\n",
    "\n",
    "print y_predict[:5]"
   ]
  },
  {
   "cell_type": "code",
   "execution_count": 60,
   "metadata": {
    "collapsed": false
   },
   "outputs": [
    {
     "name": "stdout",
     "output_type": "stream",
     "text": [
      "0.8125\n"
     ]
    }
   ],
   "source": [
    "from sklearn.metrics import accuracy_score\n",
    "\n",
    "acc = accuracy_score(y_test, y_predict)\n",
    "\n",
    "print acc"
   ]
  },
  {
   "cell_type": "markdown",
   "metadata": {},
   "source": [
    "### Quadratic programming approach"
   ]
  },
  {
   "cell_type": "code",
   "execution_count": 34,
   "metadata": {
    "collapsed": true
   },
   "outputs": [],
   "source": [
    "import numpy as np\n",
    "import pandas as pd\n",
    "from cvxpy import *\n",
    "from scipy.stats.stats import pearsonr\n",
    "\n",
    "\n",
    "def create_opt_problem(X, y, sim, rel):\n",
    "    \"\"\"\n",
    "    % Function generates matrix Q and vector b\n",
    "    % which represent feature similarities and feature relevances\n",
    "    %\n",
    "    % Input:\n",
    "    % X - [m, n] - design matrix\n",
    "    % y - [m, 1] - target vector\n",
    "    % sim - string - indicator of the way to compute feature similarities,\n",
    "    % support values are 'correl' and 'mi'\n",
    "    % rel - string - indicator of the way to compute feature significance,\n",
    "    % support values are 'correl', 'mi' and 'signif'\n",
    "    %\n",
    "    % Output:\n",
    "    % Q - [n ,n] - matrix of features similarities\n",
    "    % b - [n, 1] - vector of feature relevances\n",
    "    \"\"\"\n",
    "    \n",
    "    if len(y.shape) == 1:\n",
    "        y_mat = y[:, np.newaxis]\n",
    "    else:\n",
    "        y_mat = y[:]\n",
    "        \n",
    "    df = pd.DataFrame(np.hstack([X, y_mat]))\n",
    "    cor = np.array(df.corr())\n",
    "    \n",
    "    if sim == 'correl':\n",
    "        Q = cor[:-1, :-1]\n",
    "    else:\n",
    "        print \"Wrong similarity measure\"\n",
    "        \n",
    "    if rel == 'correl':\n",
    "        b = cor[:-1, [-1]]\n",
    "    else:\n",
    "        print \"Wrong relevance measure\"\n",
    "\n",
    "    return Q, b\n",
    "\n",
    "\n",
    "def solve_opt_problem(Q, b):\n",
    "    \"\"\"\n",
    "     Function solves the quadratic optimization problem stated to select\n",
    "     significance and noncollinear features\n",
    "\n",
    "     Input:\n",
    "     Q - [n, n] - matrix of features similarities\n",
    "     b - [n, 1] - vector of feature relevances\n",
    "\n",
    "     Output:\n",
    "     x - [n, 1] - solution of the quadratic optimization problem\n",
    "    \"\"\"\n",
    "\n",
    "    n = Q.shape[0]\n",
    "    x = Variable(n)\n",
    "\n",
    "    objective = Minimize(quad_form(x, Q) - b.T*x)\n",
    "    constraints = [x >= 0, norm(x, 1) <= 1]\n",
    "    prob = Problem(objective, constraints)\n",
    "\n",
    "    prob.solve()\n",
    "\n",
    "    if prob.status == 'optimal':\n",
    "        return np.array(x.value).flatten()\n",
    "    \n",
    "\n",
    "def quadratic_programming(X, y, sim='correl', rel='correl'):\n",
    "    Q, b = create_opt_problem(X, y, sim, rel)\n",
    "    qp_score = solve_opt_problem(Q, b)\n",
    "    return qp_score"
   ]
  },
  {
   "cell_type": "code",
   "execution_count": 36,
   "metadata": {
    "collapsed": false
   },
   "outputs": [
    {
     "name": "stdout",
     "output_type": "stream",
     "text": [
      "0.119064183334 -1.82899441684e-15\n",
      "[ -1.81609940e-15   2.28707362e-15   6.35014454e-15   1.40868755e-14\n",
      "   2.08324057e-14]\n"
     ]
    }
   ],
   "source": [
    "qp_score = quadratic_programming(X_train, y_train)\n",
    "\n",
    "print qp_score.max(), qp_score.min()\n",
    "print qp_score[:5]"
   ]
  },
  {
   "cell_type": "code",
   "execution_count": 50,
   "metadata": {
    "collapsed": false
   },
   "outputs": [
    {
     "name": "stdout",
     "output_type": "stream",
     "text": [
      "[1001    9  480  174  269]\n",
      "[1023   31 1022    0   30]\n",
      "[1023 1022   31    0   30]\n",
      "[ 66  65  34  97 897]\n"
     ]
    }
   ],
   "source": [
    "idx_qp = qp_score.argsort()[::-1]\n",
    "print idx_qp[:5]\n",
    "print idx_qp[-5:]"
   ]
  },
  {
   "cell_type": "code",
   "execution_count": 62,
   "metadata": {
    "collapsed": false
   },
   "outputs": [
    {
     "name": "stdout",
     "output_type": "stream",
     "text": [
      "0.822916666667\n"
     ]
    }
   ],
   "source": [
    "num_fea = 40\n",
    "\n",
    "selected_features_train = X_train[:, idx_qp[:num_fea]]\n",
    "selected_features_test = X_test[:, idx_qp[:num_fea]]\n",
    "\n",
    "clf.fit(selected_features_train, y_train)\n",
    "y_predict = clf.predict(selected_features_test)\n",
    "\n",
    "acc = accuracy_score(y_test, y_predict)\n",
    "print acc"
   ]
  },
  {
   "cell_type": "code",
   "execution_count": null,
   "metadata": {
    "collapsed": true
   },
   "outputs": [],
   "source": []
  }
 ],
 "metadata": {
  "anaconda-cloud": {},
  "kernelspec": {
   "display_name": "Python [default]",
   "language": "python",
   "name": "python2"
  },
  "language_info": {
   "codemirror_mode": {
    "name": "ipython",
    "version": 2
   },
   "file_extension": ".py",
   "mimetype": "text/x-python",
   "name": "python",
   "nbconvert_exporter": "python",
   "pygments_lexer": "ipython2",
   "version": "2.7.12"
  }
 },
 "nbformat": 4,
 "nbformat_minor": 1
}
